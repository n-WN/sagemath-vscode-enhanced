{
 "cells": [
  {
   "cell_type": "markdown",
   "id": "sample-markdown",
   "metadata": {},
   "source": [
    "# SageMath Notebook Support Test\n",
    "\n",
    "This notebook demonstrates the new SageMath support in VS Code notebooks.\n",
    "\n",
    "## Features:\n",
    "- ✅ SageMath syntax highlighting in cells\n",
    "- ✅ SageMath kernel for code execution\n",
    "- ✅ Error handling and output display\n",
    "- ✅ Integration with existing extension settings"
   ]
  },
  {
   "cell_type": "code",
   "execution_count": null,
   "id": "basic-arithmetic",
   "metadata": {
    "language": "sage"
   },
   "outputs": [],
   "source": [
    "# Basic arithmetic and output\n",
    "print(\"Hello from SageMath!\")\n",
    "result = 2 + 2\n",
    "print(f\"2 + 2 = {result}\")\n",
    "result"
   ]
  },
  {
   "cell_type": "code",
   "execution_count": null,
   "id": "symbolic-math",
   "metadata": {
    "language": "sage"
   },
   "outputs": [],
   "source": [
    "# Symbolic mathematics\n",
    "x = var('x')\n",
    "f = x^3 - 2*x^2 + x - 1\n",
    "print(f\"Function: {f}\")\n",
    "print(f\"Derivative: {diff(f, x)}\")\n",
    "print(f\"Factored: {factor(f)}\")"
   ]
  },
  {
   "cell_type": "code",
   "execution_count": null,
   "id": "number-theory",
   "metadata": {
    "language": "sage"
   },
   "outputs": [],
   "source": [
    "# Number theory example\n",
    "print(\"Prime factorization examples:\")\n",
    "for n in [100, 123, 456]:\n",
    "    print(f\"{n} = {factor(n)}\")\n",
    "\n",
    "print(f\"\\nFirst 10 primes: {list(primes(30))}\")"
   ]
  },
  {
   "cell_type": "code",
   "execution_count": null,
   "id": "matrix-operations",
   "metadata": {
    "language": "sage"
   },
   "outputs": [],
   "source": [
    "# Linear algebra\n",
    "A = matrix([[1, 2], [3, 4]])\n",
    "print(f\"Matrix A:\\n{A}\")\n",
    "print(f\"Determinant: {A.det()}\")\n",
    "print(f\"Inverse:\\n{A.inverse()}\")"
   ]
  },
  {
   "cell_type": "code",
   "execution_count": null,
   "id": "error-example",
   "metadata": {
    "language": "sage"
   },
   "outputs": [],
   "source": [
    "# This cell demonstrates error handling\n",
    "# Uncomment the line below to test error display\n",
    "# undefined_variable_test"
   ]
  }
 ],
 "metadata": {
  "kernelspec": {
   "display_name": "SageMath",
   "language": "sage",
   "name": "sagemath"
  },
  "language_info": {
   "codemirror_mode": {
    "name": "sage"
   },
   "file_extension": ".sage",
   "mimetype": "text/x-sage",
   "name": "sage",
   "nbconvert_exporter": "python",
   "pygments_lexer": "sage",
   "version": "9.0"
  }
 },
 "nbformat": 4,
 "nbformat_minor": 5
}
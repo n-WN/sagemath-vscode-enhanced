{
 "cells": [
  {
   "cell_type": "markdown",
   "id": "sample-markdown",
   "metadata": {},
   "source": [
    "# SageMath Notebook Test\n",
    "\n",
    "This notebook tests SageMath functionality with the enhanced VS Code extension."
   ]
  },
  {
   "cell_type": "code",
   "execution_count": null,
   "id": "sample-code-1",
   "metadata": {
    "language": "sage"
   },
   "outputs": [],
   "source": [
    "# Simple arithmetic\n",
    "2 + 2"
   ]
  },
  {
   "cell_type": "code",
   "execution_count": null,
   "id": "sample-code-2",
   "metadata": {
    "language": "sage"
   },
   "outputs": [],
   "source": [
    "# Define a symbolic variable\n",
    "x = var('x')\n",
    "f = x^2 + 3*x + 2\n",
    "print(f)"
   ]
  },
  {
   "cell_type": "code",
   "execution_count": null,
   "id": "sample-code-3",
   "metadata": {
    "language": "sage"
   },
   "outputs": [],
   "source": [
    "# Factor the expression\n",
    "factor(f)"
   ]
  }
 ],
 "metadata": {
  "kernelspec": {
   "display_name": "SageMath",
   "language": "sage",
   "name": "sagemath"
  },
  "language_info": {
   "codemirror_mode": {
    "name": "sage"
   },
   "file_extension": ".sage",
   "mimetype": "text/x-sage",
   "name": "sage",
   "nbconvert_exporter": "python",
   "pygments_lexer": "sage",
   "version": "9.0"
  }
 },
 "nbformat": 4,
 "nbformat_minor": 5
}